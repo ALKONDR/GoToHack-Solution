{
 "cells": [
  {
   "cell_type": "code",
   "execution_count": 1,
   "metadata": {
    "collapsed": true
   },
   "outputs": [],
   "source": [
    "import pandas as pd\n",
    "import numpy as np"
   ]
  },
  {
   "cell_type": "code",
   "execution_count": 2,
   "metadata": {
    "collapsed": true
   },
   "outputs": [],
   "source": [
    "events = pd.read_csv('course-217-events.csv')\n",
    "structure = pd.read_csv('course-217-structure.csv')"
   ]
  },
  {
   "cell_type": "markdown",
   "metadata": {},
   "source": [
    "# Task 2"
   ]
  },
  {
   "cell_type": "code",
   "execution_count": 3,
   "metadata": {
    "collapsed": false
   },
   "outputs": [],
   "source": [
    "correct_order = structure.sort_values(['module_position', 'lesson_position', 'step_position'])['step_id'].values\n",
    "all_steps_order = {}\n",
    "all_steps_reverse = {}\n",
    "for i in range(len(correct_order)):\n",
    "    all_steps_order[correct_order[i]] = i\n",
    "    all_steps_reverse[i] = correct_order[i]"
   ]
  },
  {
   "cell_type": "code",
   "execution_count": 4,
   "metadata": {
    "collapsed": false
   },
   "outputs": [],
   "source": [
    "for step in all_steps_order:\n",
    "    events.replace(to_replace=step, value=all_steps_order[step], inplace=True)\n",
    "    structure.replace(to_replace=step, value=all_steps_order[step], inplace=True)"
   ]
  },
  {
   "cell_type": "code",
   "execution_count": 5,
   "metadata": {
    "collapsed": true
   },
   "outputs": [],
   "source": [
    "def get_dict(keys, val=0):\n",
    "    ans = {}\n",
    "    for key in keys:\n",
    "        ans[key] = val\n",
    "    return ans"
   ]
  },
  {
   "cell_type": "code",
   "execution_count": 6,
   "metadata": {
    "collapsed": false
   },
   "outputs": [],
   "source": [
    "all_steps = structure.step_id.unique()\n",
    "step_returns = get_dict(all_steps)\n",
    "step_unique_visits = get_dict(all_steps)"
   ]
  },
  {
   "cell_type": "code",
   "execution_count": 7,
   "metadata": {
    "collapsed": false
   },
   "outputs": [
    {
     "name": "stderr",
     "output_type": "stream",
     "text": [
      "/home/alexander/anaconda3/lib/python3.5/site-packages/ipykernel/__main__.py:2: UserWarning: Boolean Series key will be reindexed to match DataFrame index.\n",
      "  from ipykernel import kernelapp as app\n"
     ]
    }
   ],
   "source": [
    "for step in all_steps:\n",
    "    step_visits = events[events.step_id == step][events.action == 'discovered']['user_id'].unique().shape[0]\n",
    "    step_unique_visits[step] = step_visits"
   ]
  },
  {
   "cell_type": "code",
   "execution_count": 8,
   "metadata": {
    "collapsed": false
   },
   "outputs": [],
   "source": [
    "events.sort_values(['time'], inplace=True)\n",
    "user_ids = events.user_id.unique()\n",
    "for user in user_ids:\n",
    "    user_events = events[events.user_id == user]\n",
    "    user_steps = user_events.step_id.values\n",
    "    step_order = get_dict(all_steps)\n",
    "    used_steps = []\n",
    "    cur_step_numb = 1\n",
    "    for step in user_steps:\n",
    "        if ((step + 1) in all_steps) and not (step in used_steps):\n",
    "            if (step_order[step + 1] > step_order[step]) and (step_order[step + 1] > 0) and (step_order[step] > 0):\n",
    "                step_returns[step] += 1\n",
    "                used_steps.append(step)\n",
    "        step_order[step] = cur_step_numb\n",
    "        cur_step_numb += 1"
   ]
  },
  {
   "cell_type": "code",
   "execution_count": 9,
   "metadata": {
    "collapsed": false
   },
   "outputs": [
    {
     "name": "stdout",
     "output_type": "stream",
     "text": [
      "41684,41604,41097,41481,42593,38872,41686,39735,39740,39717,"
     ]
    }
   ],
   "source": [
    "answer_arr = []\n",
    "for key in step_returns:\n",
    "    answer_arr.append((step_returns[key] / step_unique_visits[key], key))\n",
    "answer_arr.sort()\n",
    "answer_arr.reverse()\n",
    "for val, step in answer_arr[:10]:\n",
    "    print(all_steps_reverse[step], end=',')"
   ]
  }
 ],
 "metadata": {
  "anaconda-cloud": {},
  "kernelspec": {
   "display_name": "Python [Root]",
   "language": "python",
   "name": "Python [Root]"
  },
  "language_info": {
   "codemirror_mode": {
    "name": "ipython",
    "version": 3
   },
   "file_extension": ".py",
   "mimetype": "text/x-python",
   "name": "python",
   "nbconvert_exporter": "python",
   "pygments_lexer": "ipython3",
   "version": "3.5.2"
  }
 },
 "nbformat": 4,
 "nbformat_minor": 0
}
