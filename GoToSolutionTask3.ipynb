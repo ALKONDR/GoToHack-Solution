{
 "cells": [
  {
   "cell_type": "code",
   "execution_count": 1,
   "metadata": {
    "collapsed": true
   },
   "outputs": [],
   "source": [
    "import pandas as pd\n",
    "import numpy as np"
   ]
  },
  {
   "cell_type": "code",
   "execution_count": 2,
   "metadata": {
    "collapsed": true
   },
   "outputs": [],
   "source": [
    "events = pd.read_csv('user_activity.csv')\n",
    "structure = pd.read_csv('structure.csv')\n",
    "ones = pd.read_csv('ones_only.csv')\n",
    "targets = pd.read_csv('targets.csv')\n",
    "events_test = pd.read_csv('user_activity_test.csv')"
   ]
  },
  {
   "cell_type": "markdown",
   "metadata": {},
   "source": [
    "# Task 3"
   ]
  },
  {
   "cell_type": "code",
   "execution_count": 3,
   "metadata": {
    "collapsed": false
   },
   "outputs": [],
   "source": [
    "Y = targets.passed.values\n",
    "user_ids_train = targets.user_id.values\n",
    "user_all_score_train = targets.score.values"
   ]
  },
  {
   "cell_type": "code",
   "execution_count": 4,
   "metadata": {
    "collapsed": false
   },
   "outputs": [
    {
     "name": "stderr",
     "output_type": "stream",
     "text": [
      "/home/alexander/anaconda3/lib/python3.5/site-packages/ipykernel/__main__.py:10: UserWarning: Boolean Series key will be reindexed to match DataFrame index.\n",
      "/home/alexander/anaconda3/lib/python3.5/site-packages/ipykernel/__main__.py:11: UserWarning: Boolean Series key will be reindexed to match DataFrame index.\n",
      "/home/alexander/anaconda3/lib/python3.5/site-packages/ipykernel/__main__.py:12: UserWarning: Boolean Series key will be reindexed to match DataFrame index.\n"
     ]
    },
    {
     "name": "stdout",
     "output_type": "stream",
     "text": [
      "user 1 finished\n",
      "user 2 finished\n",
      "user 1001 finished\n",
      "user 2000 finished\n",
      "user 2001 finished\n",
      "user 2002 finished\n",
      "user 3001 finished\n",
      "user 3002 finished\n",
      "user 4000 finished\n",
      "user 4001 finished\n",
      "user 4002 finished\n",
      "user 5001 finished\n",
      "user 5002 finished\n",
      "user 6000 finished\n",
      "user 6001 finished\n",
      "user 6002 finished\n",
      "user 7000 finished\n",
      "user 7001 finished\n",
      "user 7002 finished\n",
      "user 8000 finished\n",
      "user 8001 finished\n",
      "user 8002 finished\n",
      "user 9000 finished\n",
      "user 9002 finished\n",
      "user 10001 finished\n",
      "user 10002 finished\n",
      "user 11000 finished\n",
      "user 11001 finished\n",
      "user 11002 finished\n",
      "user 12000 finished\n",
      "user 12001 finished\n",
      "user 12002 finished\n",
      "user 14000 finished\n",
      "user 14001 finished\n",
      "user 14002 finished\n",
      "user 15000 finished\n",
      "user 15001 finished\n",
      "user 15002 finished\n",
      "user 16000 finished\n",
      "user 16001 finished\n",
      "user 17000 finished\n",
      "user 18000 finished\n",
      "user 19000 finished\n",
      "user 19001 finished\n",
      "user 19002 finished\n",
      "user 20000 finished\n",
      "user 20001 finished\n",
      "user 20002 finished\n",
      "CPU times: user 1h 33min 41s, sys: 2.7 s, total: 1h 33min 44s\n",
      "Wall time: 1h 33min 59s\n"
     ]
    }
   ],
   "source": [
    "%%time\n",
    "\n",
    "last_activity = np.max(events.time.values)\n",
    "\n",
    "user_achived_score_train = np.array([])\n",
    "user_discovered_train = np.array([])\n",
    "user_passed_train = np.array([])\n",
    "user_not_doing_anything_train = np.array([])\n",
    "\n",
    "for user in targets.user_id.values:\n",
    "    user_achived_score_train = np.append(user_achived_score_train, np.sum(events[events.user_id==user][events.action=='passed'].step_cost.values))\n",
    "    user_passed_train = np.append(user_passed_train, events[events.user_id==user][events.action=='passed'].shape[0])\n",
    "    user_discovered_train = np.append(user_discovered_train, events[events.user_id==user][events.action=='discovered'].shape[0])\n",
    "    \n",
    "    last_user_activity = np.max(events[events.user_id==user]['time'].values)\n",
    "    user_not_doing_anything_train = np.append(user_not_doing_anything_train, last_activity - last_user_activity)\n",
    "    \n",
    "    if user % 1000 < 3:\n",
    "        print('user ' + str(user) + ' finished')"
   ]
  },
  {
   "cell_type": "code",
   "execution_count": 6,
   "metadata": {
    "collapsed": false
   },
   "outputs": [],
   "source": [
    "X = pd.DataFrame()\n",
    "# X['all_score'] = user_all_score_train\n",
    "X['score_by_events'] = user_achived_score_train\n",
    "X['passed_count'] = user_passed_train\n",
    "X['discovered_count'] = user_discovered_train\n",
    "X['did_nothing'] = user_not_doing_anything_train"
   ]
  },
  {
   "cell_type": "code",
   "execution_count": 7,
   "metadata": {
    "collapsed": false
   },
   "outputs": [],
   "source": [
    "from sklearn.cross_validation import train_test_split\n",
    "from sklearn.metrics import f1_score\n",
    "from sklearn.ensemble import RandomForestClassifier, GradientBoostingClassifier"
   ]
  },
  {
   "cell_type": "code",
   "execution_count": 51,
   "metadata": {
    "collapsed": false
   },
   "outputs": [],
   "source": [
    "Xtrain, Xval, Ytrain, Yval = train_test_split(X, Y, test_size=0.1, random_state=42)"
   ]
  },
  {
   "cell_type": "code",
   "execution_count": 59,
   "metadata": {
    "collapsed": false
   },
   "outputs": [],
   "source": [
    "model = GradientBoostingClassifier(max_depth=20, learning_rate=1.25)"
   ]
  },
  {
   "cell_type": "code",
   "execution_count": 60,
   "metadata": {
    "collapsed": false
   },
   "outputs": [
    {
     "data": {
      "text/plain": [
       "GradientBoostingClassifier(init=None, learning_rate=1.25, loss='deviance',\n",
       "              max_depth=20, max_features=None, max_leaf_nodes=None,\n",
       "              min_samples_leaf=1, min_samples_split=2,\n",
       "              min_weight_fraction_leaf=0.0, n_estimators=100,\n",
       "              presort='auto', random_state=None, subsample=1.0, verbose=0,\n",
       "              warm_start=False)"
      ]
     },
     "execution_count": 60,
     "metadata": {},
     "output_type": "execute_result"
    }
   ],
   "source": [
    "model.fit(X, Y)"
   ]
  },
  {
   "cell_type": "code",
   "execution_count": 61,
   "metadata": {
    "collapsed": false
   },
   "outputs": [
    {
     "name": "stdout",
     "output_type": "stream",
     "text": [
      "1.0\n"
     ]
    }
   ],
   "source": [
    "print(f1_score(Yval, model.predict(Xval)))"
   ]
  },
  {
   "cell_type": "code",
   "execution_count": 62,
   "metadata": {
    "collapsed": false
   },
   "outputs": [
    {
     "name": "stderr",
     "output_type": "stream",
     "text": [
      "/home/alexander/anaconda3/lib/python3.5/site-packages/ipykernel/__main__.py:10: UserWarning: Boolean Series key will be reindexed to match DataFrame index.\n",
      "/home/alexander/anaconda3/lib/python3.5/site-packages/ipykernel/__main__.py:11: UserWarning: Boolean Series key will be reindexed to match DataFrame index.\n",
      "/home/alexander/anaconda3/lib/python3.5/site-packages/ipykernel/__main__.py:12: UserWarning: Boolean Series key will be reindexed to match DataFrame index.\n"
     ]
    },
    {
     "name": "stdout",
     "output_type": "stream",
     "text": [
      "user 1000 finished\n",
      "user 1002 finished\n",
      "user 3000 finished\n",
      "user 5000 finished\n",
      "user 9001 finished\n",
      "user 10000 finished\n",
      "user 13000 finished\n",
      "user 13001 finished\n",
      "user 13002 finished\n",
      "user 16002 finished\n",
      "user 17001 finished\n",
      "user 17002 finished\n",
      "user 18001 finished\n",
      "user 18002 finished\n",
      "CPU times: user 5min 44s, sys: 207 ms, total: 5min 44s\n",
      "Wall time: 5min 45s\n"
     ]
    }
   ],
   "source": [
    "%%time\n",
    "\n",
    "last_activity = np.max(events_test.time.values)\n",
    "\n",
    "user_achived_score_test = np.array([])\n",
    "user_discovered_test = np.array([])\n",
    "user_passed_test = np.array([])\n",
    "user_not_doing_anything_test = np.array([])\n",
    "\n",
    "for user in events_test.groupby('user_id').sum().index:\n",
    "    user_achived_score_test = np.append(user_achived_score_test, np.sum(events_test[events_test.user_id==user][events_test.action=='passed'].step_cost.values))\n",
    "    user_passed_test = np.append(user_passed_test, events_test[events_test.user_id==user][events_test.action=='passed'].shape[0])\n",
    "    user_discovered_test = np.append(user_discovered_test, events_test[events_test.user_id==user][events_test.action=='discovered'].shape[0])\n",
    "    \n",
    "    last_user_activity = np.max(events_test[events_test.user_id==user]['time'])\n",
    "    user_not_doing_anything_test = np.append(user_not_doing_anything_test, last_activity - last_user_activity)\n",
    "    \n",
    "    if user % 1000 < 3:\n",
    "        print('user ' + str(user) + ' finished')"
   ]
  },
  {
   "cell_type": "code",
   "execution_count": 63,
   "metadata": {
    "collapsed": true
   },
   "outputs": [],
   "source": [
    "Xtest = pd.DataFrame()\n",
    "Xtest['score_by_events'] = user_achived_score_test\n",
    "Xtest['passed_count'] = user_passed_test\n",
    "Xtest['discovered_count'] = user_discovered_test\n",
    "Xtest['did_nothing'] = user_not_doing_anything_test"
   ]
  },
  {
   "cell_type": "code",
   "execution_count": 64,
   "metadata": {
    "collapsed": true
   },
   "outputs": [],
   "source": [
    "def create_submission(X, name):\n",
    "    np.savetxt('%s.csv'%name, X, delimiter=',', fmt=\"%d\", header='user_id,passed', comments='')"
   ]
  },
  {
   "cell_type": "code",
   "execution_count": 65,
   "metadata": {
    "collapsed": false
   },
   "outputs": [],
   "source": [
    "ans = model.predict(Xtest)\n",
    "result = np.concatenate((np.asarray(events_test.groupby('user_id').sum().index, dtype=int).reshape(-1, 1), np.asarray(ans, dtype=int).reshape(-1, 1)), axis=1)\n",
    "create_submission(result, 'submission')"
   ]
  }
 ],
 "metadata": {
  "anaconda-cloud": {},
  "kernelspec": {
   "display_name": "Python [Root]",
   "language": "python",
   "name": "Python [Root]"
  },
  "language_info": {
   "codemirror_mode": {
    "name": "ipython",
    "version": 3
   },
   "file_extension": ".py",
   "mimetype": "text/x-python",
   "name": "python",
   "nbconvert_exporter": "python",
   "pygments_lexer": "ipython3",
   "version": "3.5.2"
  }
 },
 "nbformat": 4,
 "nbformat_minor": 0
}
