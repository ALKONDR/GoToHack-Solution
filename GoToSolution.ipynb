{
 "cells": [
  {
   "cell_type": "code",
   "execution_count": 1,
   "metadata": {
    "collapsed": true
   },
   "outputs": [],
   "source": [
    "import pandas as pd\n",
    "import numpy as np"
   ]
  },
  {
   "cell_type": "code",
   "execution_count": 2,
   "metadata": {
    "collapsed": false
   },
   "outputs": [],
   "source": [
    "events = pd.read_csv('course-217-events.csv')\n",
    "structure = pd.read_csv('course-217-structure.csv')"
   ]
  },
  {
   "cell_type": "markdown",
   "metadata": {},
   "source": [
    "# Task 1"
   ]
  },
  {
   "cell_type": "code",
   "execution_count": 6,
   "metadata": {
    "collapsed": false
   },
   "outputs": [
    {
     "name": "stderr",
     "output_type": "stream",
     "text": [
      "/home/alexander/anaconda3/lib/python3.5/site-packages/ipykernel/__main__.py:7: FutureWarning: sort(columns=....) is deprecated, use sort_values(by=.....)\n",
      "/home/alexander/anaconda3/lib/python3.5/site-packages/pandas/core/frame.py:3225: SettingWithCopyWarning: \n",
      "A value is trying to be set on a copy of a slice from a DataFrame\n",
      "\n",
      "See the caveats in the documentation: http://pandas.pydata.org/pandas-docs/stable/indexing.html#indexing-view-versus-copy\n",
      "  na_position=na_position)\n",
      "/home/alexander/anaconda3/lib/python3.5/site-packages/ipykernel/__main__.py:18: UserWarning: Boolean Series key will be reindexed to match DataFrame index.\n"
     ]
    }
   ],
   "source": [
    "user_ids = events.user_id.unique()\n",
    "good_steps = structure[structure.step_cost == 1]['step_id'].unique()\n",
    "finished_users = []\n",
    "\n",
    "for user in user_ids:\n",
    "    user_events = events[events.user_id == user]\n",
    "    user_events.sort(['time'], inplace=True)\n",
    "    \n",
    "    user_finish_time = 0\n",
    "    user_points = 0\n",
    "    passed_steps = user_events[user_events.action == 'passed']['step_id'].values\n",
    "    user_start_time = user_events['time'].values[0]\n",
    "    \n",
    "    for step in passed_steps:\n",
    "        if step in good_steps:\n",
    "            user_points += 1\n",
    "        if user_points == 24:\n",
    "            user_finish_time = user_events[user_events.step_id == step][user_events.action == 'passed']['time'].values[0]\n",
    "            break\n",
    "\n",
    "    if user_points == 24:\n",
    "        finished_users.append((user_finish_time - user_start_time, user))"
   ]
  },
  {
   "cell_type": "markdown",
   "metadata": {},
   "source": [
    "answer:"
   ]
  },
  {
   "cell_type": "code",
   "execution_count": 9,
   "metadata": {
    "collapsed": false
   },
   "outputs": [
    {
     "name": "stdout",
     "output_type": "stream",
     "text": [
      "4313,1264,821,1146,1124,2622,713,972,4280,1291,"
     ]
    }
   ],
   "source": [
    "finished_users.sort()\n",
    "for time, user in finished_users[:10]:\n",
    "    print(str(user), end = ',')"
   ]
  }
 ],
 "metadata": {
  "anaconda-cloud": {},
  "kernelspec": {
   "display_name": "Python [Root]",
   "language": "python",
   "name": "Python [Root]"
  },
  "language_info": {
   "codemirror_mode": {
    "name": "ipython",
    "version": 3
   },
   "file_extension": ".py",
   "mimetype": "text/x-python",
   "name": "python",
   "nbconvert_exporter": "python",
   "pygments_lexer": "ipython3",
   "version": "3.5.2"
  }
 },
 "nbformat": 4,
 "nbformat_minor": 0
}
